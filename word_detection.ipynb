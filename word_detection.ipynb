{
  "nbformat": 4,
  "nbformat_minor": 0,
  "metadata": {
    "colab": {
      "provenance": [],
      "toc_visible": true,
      "authorship_tag": "ABX9TyOYBKiCEduUcIjt5tzryXfE",
      "include_colab_link": true
    },
    "kernelspec": {
      "name": "python3",
      "display_name": "Python 3"
    },
    "language_info": {
      "name": "python"
    }
  },
  "cells": [
    {
      "cell_type": "markdown",
      "metadata": {
        "id": "view-in-github",
        "colab_type": "text"
      },
      "source": [
        "<a href=\"https://colab.research.google.com/github/aman8387/python-projects/blob/main/word_detection.ipynb\" target=\"_parent\"><img src=\"https://colab.research.google.com/assets/colab-badge.svg\" alt=\"Open In Colab\"/></a>"
      ]
    },
    {
      "cell_type": "code",
      "execution_count": 1,
      "metadata": {
        "id": "Nkf6-Sgsrw91"
      },
      "outputs": [],
      "source": [
        "import numpy as np\n",
        "import pandas as pd\n",
        "import os\n",
        "for dirname, _, filenames in os.walk('/kaggle/input'):\n",
        "    for filename in filenames:\n",
        "        print(os.path.join(dirname, filename))"
      ]
    },
    {
      "cell_type": "code",
      "source": [
        "import nltk\n",
        "nltk.download('words')"
      ],
      "metadata": {
        "colab": {
          "base_uri": "https://localhost:8080/"
        },
        "id": "EmHYlFF5sEks",
        "outputId": "49771d71-8381-42ea-c94a-de92f5003926"
      },
      "execution_count": 3,
      "outputs": [
        {
          "output_type": "stream",
          "name": "stderr",
          "text": [
            "[nltk_data] Downloading package words to /root/nltk_data...\n",
            "[nltk_data]   Package words is already up-to-date!\n"
          ]
        },
        {
          "output_type": "execute_result",
          "data": {
            "text/plain": [
              "True"
            ]
          },
          "metadata": {},
          "execution_count": 3
        }
      ]
    },
    {
      "cell_type": "code",
      "source": [
        "from nltk.corpus import words\n",
        "\n",
        "valid_words = set(words.words())"
      ],
      "metadata": {
        "id": "f5KmFaiUsK9w"
      },
      "execution_count": 4,
      "outputs": []
    },
    {
      "cell_type": "code",
      "source": [
        "!sudo apt-get update\n",
        "!sudo apt-get install -y enchant"
      ],
      "metadata": {
        "colab": {
          "base_uri": "https://localhost:8080/"
        },
        "id": "_r2pey35sLn4",
        "outputId": "14cfbe7b-f088-4409-c4d2-d36f4017a5b1"
      },
      "execution_count": 5,
      "outputs": [
        {
          "output_type": "stream",
          "name": "stdout",
          "text": [
            "\r0% [Working]\r            \rGet:1 https://cloud.r-project.org/bin/linux/ubuntu jammy-cran40/ InRelease [3,626 B]\n",
            "\r0% [Connecting to archive.ubuntu.com (185.125.190.83)] [Waiting for headers] [1\r0% [Connecting to archive.ubuntu.com (185.125.190.83)] [Waiting for headers] [C\r                                                                               \rGet:2 https://developer.download.nvidia.com/compute/cuda/repos/ubuntu2204/x86_64  InRelease [1,581 B]\n",
            "Get:3 http://security.ubuntu.com/ubuntu jammy-security InRelease [129 kB]\n",
            "Hit:4 http://archive.ubuntu.com/ubuntu jammy InRelease\n",
            "Get:5 http://archive.ubuntu.com/ubuntu jammy-updates InRelease [128 kB]\n",
            "Get:6 https://developer.download.nvidia.com/compute/cuda/repos/ubuntu2204/x86_64  Packages [973 kB]\n",
            "Hit:7 https://ppa.launchpadcontent.net/c2d4u.team/c2d4u4.0+/ubuntu jammy InRelease\n",
            "Get:8 http://security.ubuntu.com/ubuntu jammy-security/universe amd64 Packages [1,125 kB]\n",
            "Get:9 https://ppa.launchpadcontent.net/deadsnakes/ppa/ubuntu jammy InRelease [18.1 kB]\n",
            "Get:10 http://archive.ubuntu.com/ubuntu jammy-backports InRelease [127 kB]\n",
            "Hit:11 https://ppa.launchpadcontent.net/graphics-drivers/ppa/ubuntu jammy InRelease\n",
            "Get:12 http://security.ubuntu.com/ubuntu jammy-security/main amd64 Packages [1,994 kB]\n",
            "Hit:13 https://ppa.launchpadcontent.net/ubuntugis/ppa/ubuntu jammy InRelease\n",
            "Get:14 http://security.ubuntu.com/ubuntu jammy-security/restricted amd64 Packages [2,591 kB]\n",
            "Get:15 http://archive.ubuntu.com/ubuntu jammy-updates/main amd64 Packages [2,258 kB]\n",
            "Get:16 https://ppa.launchpadcontent.net/deadsnakes/ppa/ubuntu jammy/main amd64 Packages [27.8 kB]\n",
            "Get:17 http://archive.ubuntu.com/ubuntu jammy-updates/universe amd64 Packages [1,409 kB]\n",
            "Get:18 http://archive.ubuntu.com/ubuntu jammy-updates/restricted amd64 Packages [2,664 kB]\n",
            "Fetched 13.4 MB in 3s (4,930 kB/s)\n",
            "Reading package lists... Done\n",
            "Reading package lists... Done\n",
            "Building dependency tree... Done\n",
            "Reading state information... Done\n",
            "E: Unable to locate package enchant\n"
          ]
        }
      ]
    },
    {
      "cell_type": "code",
      "source": [
        "import enchant\n",
        "\n",
        "d = enchant.Dict(\"en_US\")\n",
        "\n",
        "def check_word(word, incorrect_count, incorrect_words):\n",
        "    if d.check(word):\n",
        "        return True, incorrect_count, incorrect_words, \"Word is valid.\"\n",
        "    else:\n",
        "        incorrect_count += 1\n",
        "        incorrect_words.append(word)\n",
        "        suggestions = d.suggest(word)\n",
        "        error_message = f\"Word '{word}' is not available. Suggestions: {suggestions[:3]}\"\n",
        "        if incorrect_count >= 2:\n",
        "            error_message += f\"\\nList of wrong words so far: {incorrect_words}\"\n",
        "        return False, incorrect_count, incorrect_words, error_message"
      ],
      "metadata": {
        "id": "gzVa2SWAtPol"
      },
      "execution_count": null,
      "outputs": []
    },
    {
      "cell_type": "code",
      "source": [
        "from difflib import get_close_matches\n",
        "\n",
        "nltk.download('words')\n",
        "\n",
        "from nltk.corpus import words\n",
        "valid_words = set(words.words())\n",
        "\n",
        "def suggest(word, n=3):\n",
        "    return get_close_matches(word, valid_words, n=n)\n",
        "\n",
        "def check_word(word, incorrect_count, incorrect_words):\n",
        "    if word in valid_words:\n",
        "        return True, incorrect_count, incorrect_words, \"Word is valid.\"\n",
        "    else:\n",
        "        incorrect_count += 1\n",
        "        incorrect_words.append(word)\n",
        "        suggestions = suggest(word)\n",
        "        error_message = f\"Word '{word}' is not available. Suggestions: {suggestions}\"\n",
        "        if incorrect_count >= 2:\n",
        "            error_message += f\"\\nList of wrong words so far: {incorrect_words}\"\n",
        "        return False, incorrect_count, incorrect_words, error_message"
      ],
      "metadata": {
        "colab": {
          "base_uri": "https://localhost:8080/"
        },
        "id": "Ogngau3FsYc3",
        "outputId": "200cbbb5-8a57-42d3-e68d-49d44855cfb1"
      },
      "execution_count": 9,
      "outputs": [
        {
          "output_type": "stream",
          "name": "stderr",
          "text": [
            "[nltk_data] Downloading package words to /root/nltk_data...\n",
            "[nltk_data]   Package words is already up-to-date!\n"
          ]
        }
      ]
    },
    {
      "cell_type": "code",
      "source": [
        "def main():\n",
        "    incorrect_count = 0\n",
        "    incorrect_words = []\n",
        "\n",
        "    while True:\n",
        "        word = input(\"Enter a word: \").strip()\n",
        "        valid, incorrect_count, incorrect_words, message = check_word(word, incorrect_count, incorrect_words)\n",
        "        print(message)\n",
        "        if valid:\n",
        "            break\n",
        "\n",
        "if __name__ == \"__main__\":\n",
        "    main()"
      ],
      "metadata": {
        "colab": {
          "base_uri": "https://localhost:8080/"
        },
        "id": "DNo__7NNs-DQ",
        "outputId": "4a9f593a-d5e3-4274-f462-0c81dae84cf6"
      },
      "execution_count": 8,
      "outputs": [
        {
          "output_type": "stream",
          "name": "stdout",
          "text": [
            "Enter a word: wooord\n",
            "Word 'wooord' is not available. Suggestions: ['word', 'wood', 'oord']\n",
            "Enter a word: word\n",
            "Word is valid.\n"
          ]
        }
      ]
    }
  ]
}